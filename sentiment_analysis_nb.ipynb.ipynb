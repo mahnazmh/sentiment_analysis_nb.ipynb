{
  "nbformat": 4,
  "nbformat_minor": 0,
  "metadata": {
    "colab": {
      "provenance": []
    },
    "kernelspec": {
      "name": "python3",
      "display_name": "Python 3"
    },
    "language_info": {
      "name": "python"
    }
  },
  "cells": [
    {
      "cell_type": "code",
      "execution_count": 1,
      "metadata": {
        "colab": {
          "base_uri": "https://localhost:8080/"
        },
        "id": "_bdarKhS4PUp",
        "outputId": "90359d10-cda7-49a5-fa5f-a70a71179894"
      },
      "outputs": [
        {
          "output_type": "stream",
          "name": "stdout",
          "text": [
            "Requirement already satisfied: scikit_learn in /usr/local/lib/python3.11/dist-packages (1.6.1)\n",
            "Requirement already satisfied: pandas in /usr/local/lib/python3.11/dist-packages (2.2.2)\n",
            "Requirement already satisfied: numpy>=1.19.5 in /usr/local/lib/python3.11/dist-packages (from scikit_learn) (2.0.2)\n",
            "Requirement already satisfied: scipy>=1.6.0 in /usr/local/lib/python3.11/dist-packages (from scikit_learn) (1.15.3)\n",
            "Requirement already satisfied: joblib>=1.2.0 in /usr/local/lib/python3.11/dist-packages (from scikit_learn) (1.5.0)\n",
            "Requirement already satisfied: threadpoolctl>=3.1.0 in /usr/local/lib/python3.11/dist-packages (from scikit_learn) (3.6.0)\n",
            "Requirement already satisfied: python-dateutil>=2.8.2 in /usr/local/lib/python3.11/dist-packages (from pandas) (2.9.0.post0)\n",
            "Requirement already satisfied: pytz>=2020.1 in /usr/local/lib/python3.11/dist-packages (from pandas) (2025.2)\n",
            "Requirement already satisfied: tzdata>=2022.7 in /usr/local/lib/python3.11/dist-packages (from pandas) (2025.2)\n",
            "Requirement already satisfied: six>=1.5 in /usr/local/lib/python3.11/dist-packages (from python-dateutil>=2.8.2->pandas) (1.17.0)\n"
          ]
        }
      ],
      "source": [
        "!pip install scikit_learn pandas"
      ]
    },
    {
      "cell_type": "code",
      "source": [
        "import pandas as pd\n",
        "from sklearn.model_selection import train_test_split\n",
        "from sklearn.feature_extraction.text import CountVectorizer\n",
        "from sklearn.naive_bayes import MultinomialNB\n",
        "from sklearn.metrics import accuracy_score\n"
      ],
      "metadata": {
        "id": "OBOOHisj7HK-"
      },
      "execution_count": 7,
      "outputs": []
    },
    {
      "cell_type": "code",
      "source": [
        "data = {\n",
        "    'text': [\n",
        "        'I love this product',\n",
        "        'This is the worst thing I have ever bought',\n",
        "        'Absolutely amazing!',\n",
        "        'Terrible experience, do not recommend',\n",
        "        'I am very happy with this',\n",
        "        'Not good at all',\n",
        "        'Fantastic! I will buy it again',\n",
        "        'It was a waste of money',\n",
        "        'I enjoyed every moment',\n",
        "        'Worst service ever'\n",
        "    ],\n",
        "    'label': [1, 0, 1, 0, 1, 0, 1, 0, 1, 0]  # 1 = مثبت، 0 = منفی\n",
        "}\n",
        "\n",
        "df = pd.DataFrame(data)\n",
        "print(df)\n"
      ],
      "metadata": {
        "colab": {
          "base_uri": "https://localhost:8080/"
        },
        "id": "uCjJOwTn7NVU",
        "outputId": "8af6c891-62b4-4e8a-e2a2-3360be637171"
      },
      "execution_count": 8,
      "outputs": [
        {
          "output_type": "stream",
          "name": "stdout",
          "text": [
            "                                         text  label\n",
            "0                         I love this product      1\n",
            "1  This is the worst thing I have ever bought      0\n",
            "2                         Absolutely amazing!      1\n",
            "3       Terrible experience, do not recommend      0\n",
            "4                   I am very happy with this      1\n",
            "5                             Not good at all      0\n",
            "6              Fantastic! I will buy it again      1\n",
            "7                     It was a waste of money      0\n",
            "8                      I enjoyed every moment      1\n",
            "9                          Worst service ever      0\n"
          ]
        }
      ]
    },
    {
      "cell_type": "code",
      "source": [
        "\n",
        "X_train, X_test, y_train, y_test = train_test_split(df['text'], df['label'], test_size=0.3, random_state=42)\n",
        "\n",
        "\n",
        "vectorizer = CountVectorizer()\n",
        "X_train_vectors = vectorizer.fit_transform(X_train)\n",
        "X_test_vectors = vectorizer.transform(X_test)\n",
        "\n",
        "\n",
        "model = MultinomialNB()\n",
        "model.fit(X_train_vectors, y_train)\n",
        "\n",
        "\n",
        "y_pred = model.predict(X_test_vectors)\n",
        "\n",
        "\n",
        "accuracy = accuracy_score(y_test, y_pred)\n",
        "print(f\"Accuracy: {accuracy * 100:.2f}%\")\n"
      ],
      "metadata": {
        "colab": {
          "base_uri": "https://localhost:8080/"
        },
        "id": "u2z2d2fC7Yfb",
        "outputId": "0f7da7cb-e225-454b-ef9e-9a2c7698c76f"
      },
      "execution_count": 9,
      "outputs": [
        {
          "output_type": "stream",
          "name": "stdout",
          "text": [
            "Accuracy: 100.00%\n"
          ]
        }
      ]
    },
    {
      "cell_type": "code",
      "source": [
        "\n",
        "new_sentences = [\n",
        "    \"I really love this!\",\n",
        "    \"What a horrible experience\",\n",
        "    \"Not bad at all\",\n",
        "    \"This made me so happy\",\n",
        "    \"I hate it\"\n",
        "]\n",
        "\n",
        "\n",
        "new_vectors = vectorizer.transform(new_sentences)\n",
        "\n",
        "\n",
        "predictions = model.predict(new_vectors)\n",
        "\n",
        "\n",
        "for sentence, label in zip(new_sentences, predictions):\n",
        "    sentiment = \"Positive 😊\" if label == 1 else \"Negative 😠\"\n",
        "    print(f\"{sentence} --> {sentiment}\")\n"
      ],
      "metadata": {
        "colab": {
          "base_uri": "https://localhost:8080/"
        },
        "id": "M61rZA-t-n59",
        "outputId": "06c9005b-f3e9-47a7-b271-7f6ce0e9a1c2"
      },
      "execution_count": 10,
      "outputs": [
        {
          "output_type": "stream",
          "name": "stdout",
          "text": [
            "I really love this! --> Positive 😊\n",
            "What a horrible experience --> Negative 😠\n",
            "Not bad at all --> Negative 😠\n",
            "This made me so happy --> Positive 😊\n",
            "I hate it --> Positive 😊\n"
          ]
        }
      ]
    }
  ]
}